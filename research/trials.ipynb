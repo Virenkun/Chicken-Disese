{
 "cells": [
  {
   "cell_type": "code",
   "execution_count": 1,
   "metadata": {
    "collapsed": true,
    "ExecuteTime": {
     "end_time": "2023-07-07T08:41:10.901988800Z",
     "start_time": "2023-07-07T08:41:10.873398600Z"
    }
   },
   "outputs": [],
   "source": [
    "d = {\"key\" : \"value\", \"key1\" : \"value1\"}"
   ]
  },
  {
   "cell_type": "code",
   "execution_count": 2,
   "outputs": [
    {
     "data": {
      "text/plain": "'value'"
     },
     "execution_count": 2,
     "metadata": {},
     "output_type": "execute_result"
    }
   ],
   "source": [
    "d['key']"
   ],
   "metadata": {
    "collapsed": false,
    "ExecuteTime": {
     "end_time": "2023-07-07T08:41:17.916661900Z",
     "start_time": "2023-07-07T08:41:17.869677700Z"
    }
   }
  },
  {
   "cell_type": "code",
   "execution_count": 3,
   "outputs": [
    {
     "ename": "AttributeError",
     "evalue": "'dict' object has no attribute 'key'",
     "output_type": "error",
     "traceback": [
      "\u001B[1;31m---------------------------------------------------------------------------\u001B[0m",
      "\u001B[1;31mAttributeError\u001B[0m                            Traceback (most recent call last)",
      "Cell \u001B[1;32mIn[3], line 1\u001B[0m\n\u001B[1;32m----> 1\u001B[0m \u001B[43md\u001B[49m\u001B[38;5;241;43m.\u001B[39;49m\u001B[43mkey\u001B[49m\n",
      "\u001B[1;31mAttributeError\u001B[0m: 'dict' object has no attribute 'key'"
     ]
    }
   ],
   "source": [
    "d.key"
   ],
   "metadata": {
    "collapsed": false,
    "ExecuteTime": {
     "end_time": "2023-07-07T08:41:34.617650900Z",
     "start_time": "2023-07-07T08:41:34.046884500Z"
    }
   }
  },
  {
   "cell_type": "code",
   "execution_count": 4,
   "outputs": [],
   "source": [
    "from box import ConfigBox"
   ],
   "metadata": {
    "collapsed": false,
    "ExecuteTime": {
     "end_time": "2023-07-07T08:42:22.123417700Z",
     "start_time": "2023-07-07T08:42:21.927311Z"
    }
   }
  },
  {
   "cell_type": "code",
   "execution_count": 5,
   "outputs": [],
   "source": [
    "d2 = ConfigBox({\"key\" : \"value\", \"key1\" : \"value1\"})"
   ],
   "metadata": {
    "collapsed": false,
    "ExecuteTime": {
     "end_time": "2023-07-07T08:42:59.324640800Z",
     "start_time": "2023-07-07T08:42:59.308650900Z"
    }
   }
  },
  {
   "cell_type": "code",
   "execution_count": 6,
   "outputs": [
    {
     "data": {
      "text/plain": "ConfigBox({'key': 'value', 'key1': 'value1'})"
     },
     "execution_count": 6,
     "metadata": {},
     "output_type": "execute_result"
    }
   ],
   "source": [
    "d2"
   ],
   "metadata": {
    "collapsed": false,
    "ExecuteTime": {
     "end_time": "2023-07-07T08:43:06.251248400Z",
     "start_time": "2023-07-07T08:43:06.231014900Z"
    }
   }
  },
  {
   "cell_type": "code",
   "execution_count": 7,
   "outputs": [
    {
     "data": {
      "text/plain": "'value'"
     },
     "execution_count": 7,
     "metadata": {},
     "output_type": "execute_result"
    }
   ],
   "source": [
    "d2.key"
   ],
   "metadata": {
    "collapsed": false,
    "ExecuteTime": {
     "end_time": "2023-07-07T08:43:13.697916200Z",
     "start_time": "2023-07-07T08:43:13.653923400Z"
    }
   }
  },
  {
   "cell_type": "code",
   "execution_count": 8,
   "outputs": [],
   "source": [
    "def get_product(x:int, y:int) -> int:\n",
    "    return x*y"
   ],
   "metadata": {
    "collapsed": false,
    "ExecuteTime": {
     "end_time": "2023-07-07T08:44:43.314598400Z",
     "start_time": "2023-07-07T08:44:43.307597800Z"
    }
   }
  },
  {
   "cell_type": "code",
   "execution_count": 9,
   "outputs": [
    {
     "data": {
      "text/plain": "14"
     },
     "execution_count": 9,
     "metadata": {},
     "output_type": "execute_result"
    }
   ],
   "source": [
    "get_product(x=2, y=7)"
   ],
   "metadata": {
    "collapsed": false,
    "ExecuteTime": {
     "end_time": "2023-07-07T08:44:57.716348900Z",
     "start_time": "2023-07-07T08:44:57.695349Z"
    }
   }
  },
  {
   "cell_type": "code",
   "execution_count": 10,
   "outputs": [
    {
     "data": {
      "text/plain": "'44'"
     },
     "execution_count": 10,
     "metadata": {},
     "output_type": "execute_result"
    }
   ],
   "source": [
    "get_product(x=2, y=\"4\")"
   ],
   "metadata": {
    "collapsed": false,
    "ExecuteTime": {
     "end_time": "2023-07-07T08:45:19.684728500Z",
     "start_time": "2023-07-07T08:45:19.665723800Z"
    }
   }
  },
  {
   "cell_type": "code",
   "execution_count": 11,
   "outputs": [],
   "source": [
    "from ensure import ensure_annotations"
   ],
   "metadata": {
    "collapsed": false,
    "ExecuteTime": {
     "end_time": "2023-07-07T08:46:10.188724400Z",
     "start_time": "2023-07-07T08:46:10.140512500Z"
    }
   }
  },
  {
   "cell_type": "code",
   "execution_count": 12,
   "outputs": [],
   "source": [
    "@ensure_annotations\n",
    "def get_product(x:int, y:int) -> int:\n",
    "    return x*y"
   ],
   "metadata": {
    "collapsed": false,
    "ExecuteTime": {
     "end_time": "2023-07-07T08:46:28.942496500Z",
     "start_time": "2023-07-07T08:46:28.921488900Z"
    }
   }
  },
  {
   "cell_type": "code",
   "execution_count": 13,
   "outputs": [
    {
     "data": {
      "text/plain": "14"
     },
     "execution_count": 13,
     "metadata": {},
     "output_type": "execute_result"
    }
   ],
   "source": [
    "get_product(x=2, y=7)"
   ],
   "metadata": {
    "collapsed": false,
    "ExecuteTime": {
     "end_time": "2023-07-07T08:46:40.241868100Z",
     "start_time": "2023-07-07T08:46:40.180851700Z"
    }
   }
  },
  {
   "cell_type": "code",
   "execution_count": 14,
   "outputs": [
    {
     "ename": "EnsureError",
     "evalue": "Argument y of type <class 'str'> to <function get_product at 0x0000024161A57A60> does not match annotation type <class 'int'>",
     "output_type": "error",
     "traceback": [
      "\u001B[1;31m---------------------------------------------------------------------------\u001B[0m",
      "\u001B[1;31mEnsureError\u001B[0m                               Traceback (most recent call last)",
      "Cell \u001B[1;32mIn[14], line 1\u001B[0m\n\u001B[1;32m----> 1\u001B[0m \u001B[43mget_product\u001B[49m\u001B[43m(\u001B[49m\u001B[43mx\u001B[49m\u001B[38;5;241;43m=\u001B[39;49m\u001B[38;5;241;43m2\u001B[39;49m\u001B[43m,\u001B[49m\u001B[43m \u001B[49m\u001B[43my\u001B[49m\u001B[38;5;241;43m=\u001B[39;49m\u001B[38;5;124;43m\"\u001B[39;49m\u001B[38;5;124;43m8\u001B[39;49m\u001B[38;5;124;43m\"\u001B[39;49m\u001B[43m)\u001B[49m\n",
      "File \u001B[1;32mD:\\ML Projects\\Chicken-Disease-Classification\\venv\\Lib\\site-packages\\ensure\\main.py:845\u001B[0m, in \u001B[0;36mWrappedFunctionReturn.__call__\u001B[1;34m(self, *args, **kwargs)\u001B[0m\n\u001B[0;32m    840\u001B[0m     \u001B[38;5;28;01mif\u001B[39;00m \u001B[38;5;129;01mnot\u001B[39;00m \u001B[38;5;28misinstance\u001B[39m(value, templ):\n\u001B[0;32m    841\u001B[0m         msg \u001B[38;5;241m=\u001B[39m (\n\u001B[0;32m    842\u001B[0m             \u001B[38;5;124m\"\u001B[39m\u001B[38;5;124mArgument \u001B[39m\u001B[38;5;132;01m{arg}\u001B[39;00m\u001B[38;5;124m of type \u001B[39m\u001B[38;5;132;01m{valt}\u001B[39;00m\u001B[38;5;124m to \u001B[39m\u001B[38;5;132;01m{f}\u001B[39;00m\u001B[38;5;124m \u001B[39m\u001B[38;5;124m\"\u001B[39m\n\u001B[0;32m    843\u001B[0m             \u001B[38;5;124m\"\u001B[39m\u001B[38;5;124mdoes not match annotation type \u001B[39m\u001B[38;5;132;01m{t}\u001B[39;00m\u001B[38;5;124m\"\u001B[39m\n\u001B[0;32m    844\u001B[0m         )\n\u001B[1;32m--> 845\u001B[0m         \u001B[38;5;28;01mraise\u001B[39;00m EnsureError(msg\u001B[38;5;241m.\u001B[39mformat(\n\u001B[0;32m    846\u001B[0m             arg\u001B[38;5;241m=\u001B[39marg, f\u001B[38;5;241m=\u001B[39m\u001B[38;5;28mself\u001B[39m\u001B[38;5;241m.\u001B[39mf, t\u001B[38;5;241m=\u001B[39mtempl, valt\u001B[38;5;241m=\u001B[39m\u001B[38;5;28mtype\u001B[39m(value)\n\u001B[0;32m    847\u001B[0m         ))\n\u001B[0;32m    849\u001B[0m return_val \u001B[38;5;241m=\u001B[39m \u001B[38;5;28mself\u001B[39m\u001B[38;5;241m.\u001B[39mf(\u001B[38;5;241m*\u001B[39margs, \u001B[38;5;241m*\u001B[39m\u001B[38;5;241m*\u001B[39mkwargs)\n\u001B[0;32m    850\u001B[0m \u001B[38;5;28;01mif\u001B[39;00m \u001B[38;5;129;01mnot\u001B[39;00m \u001B[38;5;28misinstance\u001B[39m(return_val, \u001B[38;5;28mself\u001B[39m\u001B[38;5;241m.\u001B[39mreturn_templ):\n",
      "\u001B[1;31mEnsureError\u001B[0m: Argument y of type <class 'str'> to <function get_product at 0x0000024161A57A60> does not match annotation type <class 'int'>"
     ]
    }
   ],
   "source": [
    "get_product(x=2, y=\"8\")"
   ],
   "metadata": {
    "collapsed": false,
    "ExecuteTime": {
     "end_time": "2023-07-07T08:46:51.037664Z",
     "start_time": "2023-07-07T08:46:50.787349900Z"
    }
   }
  },
  {
   "cell_type": "code",
   "execution_count": null,
   "outputs": [],
   "source": [],
   "metadata": {
    "collapsed": false
   }
  }
 ],
 "metadata": {
  "kernelspec": {
   "display_name": "Python 3",
   "language": "python",
   "name": "python3"
  },
  "language_info": {
   "codemirror_mode": {
    "name": "ipython",
    "version": 2
   },
   "file_extension": ".py",
   "mimetype": "text/x-python",
   "name": "python",
   "nbconvert_exporter": "python",
   "pygments_lexer": "ipython2",
   "version": "2.7.6"
  }
 },
 "nbformat": 4,
 "nbformat_minor": 0
}
